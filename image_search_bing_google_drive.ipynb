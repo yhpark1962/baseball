{
  "nbformat": 4,
  "nbformat_minor": 0,
  "metadata": {
    "colab": {
      "provenance": [],
      "authorship_tag": "ABX9TyO6h3URZREvp5XaV0eMRa1u",
      "include_colab_link": true
    },
    "kernelspec": {
      "name": "python3",
      "display_name": "Python 3"
    },
    "language_info": {
      "name": "python"
    }
  },
  "cells": [
    {
      "cell_type": "markdown",
      "metadata": {
        "id": "view-in-github",
        "colab_type": "text"
      },
      "source": [
        "<a href=\"https://colab.research.google.com/github/yhpark1962/baseball/blob/main/image_search_bing_google_drive.ipynb\" target=\"_parent\"><img src=\"https://colab.research.google.com/assets/colab-badge.svg\" alt=\"Open In Colab\"/></a>"
      ]
    },
    {
      "cell_type": "code",
      "execution_count": null,
      "metadata": {
        "colab": {
          "base_uri": "https://localhost:8080/"
        },
        "id": "8X3lrSXGrpLo",
        "outputId": "a2d1a95d-74cb-4dc6-80a6-8177ce37bb17"
      },
      "outputs": [
        {
          "output_type": "stream",
          "name": "stdout",
          "text": [
            "Mounted at /content/drive\n",
            "검색어: 강아지\n",
            "수집할 이미지 개수: 20\n",
            "=== 이미지 수집 시작 ===\n",
            "Saved: /content/drive/My Drive/강아지/강아지_1.jpg\n",
            "Saved: /content/drive/My Drive/강아지/강아지_2.jpg\n",
            "Saved: /content/drive/My Drive/강아지/강아지_3.jpg\n",
            "Saved: /content/drive/My Drive/강아지/강아지_4.jpg\n",
            "Saved: /content/drive/My Drive/강아지/강아지_5.jpg\n",
            "Saved: /content/drive/My Drive/강아지/강아지_6.jpg\n",
            "Saved: /content/drive/My Drive/강아지/강아지_7.jpg\n",
            "Saved: /content/drive/My Drive/강아지/강아지_8.jpg\n",
            "Saved: /content/drive/My Drive/강아지/강아지_9.jpg\n",
            "Saved: /content/drive/My Drive/강아지/강아지_10.jpg\n",
            "Saved: /content/drive/My Drive/강아지/강아지_11.jpg\n",
            "Saved: /content/drive/My Drive/강아지/강아지_12.jpg\n",
            "Saved: /content/drive/My Drive/강아지/강아지_13.jpg\n",
            "Saved: /content/drive/My Drive/강아지/강아지_14.jpg\n",
            "Saved: /content/drive/My Drive/강아지/강아지_15.jpg\n",
            "Saved: /content/drive/My Drive/강아지/강아지_16.jpg\n",
            "Saved: /content/drive/My Drive/강아지/강아지_17.jpg\n",
            "Saved: /content/drive/My Drive/강아지/강아지_18.jpg\n",
            "Saved: /content/drive/My Drive/강아지/강아지_19.jpg\n",
            "Saved: /content/drive/My Drive/강아지/강아지_20.jpg\n",
            "=== 이미지 수집 종료: 20개 저장 완료 ===\n"
          ]
        }
      ],
      "source": [
        "import os\n",
        "import requests\n",
        "from bs4 import BeautifulSoup\n",
        "import json\n",
        "from google.colab import drive\n",
        "\n",
        "# Google Drive 마운트\n",
        "drive.mount('/content/drive')\n",
        "\n",
        "# 검색어 입력\n",
        "query = input(\"검색어: \")\n",
        "image_cnt = int(input(\"수집할 이미지 개수: \"))\n",
        "\n",
        "# Google Drive 내 저장 경로 설정 및 검색어 폴더 생성\n",
        "drive_base_path = \"/content/drive/My Drive\"\n",
        "save_dir = os.path.join(drive_base_path, query.replace(\" \", \"_\"))\n",
        "os.makedirs(save_dir, exist_ok=True)\n",
        "\n",
        "# Bing 이미지 검색 URL\n",
        "base_url = f\"https://www.bing.com/images/search?q={query}\"\n",
        "\n",
        "# HTTP 요청 헤더 설정\n",
        "headers = {\n",
        "    \"User-Agent\": \"Mozilla/5.0 (Windows NT 10.0; Win64; x64) AppleWebKit/537.36 (KHTML, like Gecko) Chrome/110.0.0.0 Safari/537.36\"\n",
        "}\n",
        "\n",
        "# 페이지에서 이미지 URL 추출\n",
        "def fetch_image_links():\n",
        "    response = requests.get(base_url, headers=headers)\n",
        "    soup = BeautifulSoup(response.text, \"html.parser\")\n",
        "\n",
        "    image_elements = soup.find_all(\"a\", class_=\"iusc\")\n",
        "    links = []\n",
        "\n",
        "    for img in image_elements:\n",
        "        try:\n",
        "            # 'm' 속성에서 JSON 파싱\n",
        "            m = json.loads(img[\"m\"])\n",
        "            links.append(m[\"murl\"])\n",
        "        except Exception as e:\n",
        "            print(f\"Error extracting image URL: {e}\")\n",
        "            continue\n",
        "\n",
        "    return links[:image_cnt]\n",
        "\n",
        "# 이미지 다운로드 및 저장\n",
        "image_links = fetch_image_links()\n",
        "\n",
        "download_count = 0\n",
        "print(\"=== 이미지 수집 시작 ===\")\n",
        "for idx, link in enumerate(image_links):\n",
        "    try:\n",
        "        response = requests.get(link, stream=True)\n",
        "        if response.status_code == 200:\n",
        "            image_path = os.path.join(save_dir, f\"{query.replace(' ', '_')}_{idx + 1}.jpg\")\n",
        "            with open(image_path, 'wb') as f:\n",
        "                f.write(response.content)\n",
        "            print(f\"Saved: {image_path}\")\n",
        "            download_count += 1\n",
        "    except Exception as e:\n",
        "        print(f\"Error downloading image {idx + 1}: {e}\")\n",
        "\n",
        "print(f\"=== 이미지 수집 종료: {download_count}개 저장 완료 ===\")\n"
      ]
    }
  ]
}