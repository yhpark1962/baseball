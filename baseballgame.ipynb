{
  "cells": [
    {
      "cell_type": "markdown",
      "metadata": {
        "id": "view-in-github",
        "colab_type": "text"
      },
      "source": [
        "<a href=\"https://colab.research.google.com/github/yhpark1962/baseball/blob/main/baseballgame.ipynb\" target=\"_parent\"><img src=\"https://colab.research.google.com/assets/colab-badge.svg\" alt=\"Open In Colab\"/></a>"
      ]
    },
    {
      "cell_type": "code",
      "execution_count": 7,
      "metadata": {
        "colab": {
          "base_uri": "https://localhost:8080/"
        },
        "id": "iDdF8297ZctQ",
        "outputId": "9b246e67-edaa-4eba-b7cd-c0d0effb3666"
      },
      "outputs": [
        {
          "output_type": "stream",
          "name": "stdout",
          "text": [
            "Welcome to Baseball game, IT Park!\n",
            "3-digit number please you guess, 3 different numbers (ex: 123): 345\n",
            "1 Strikes, 0 Balls\n",
            "3-digit number please you guess, 3 different numbers (ex: 123): 367\n",
            "1 Strikes, 0 Balls\n",
            "3-digit number please you guess, 3 different numbers (ex: 123): 389\n",
            "2 Strikes, 0 Balls\n",
            "3-digit number please you guess, 3 different numbers (ex: 123): 381\n",
            "2 Strikes, 0 Balls\n",
            "3-digit number please you guess, 3 different numbers (ex: 123): 380\n",
            "Good Job, You are genius~~: 380\n",
            "Total trial number: 5\n"
          ]
        }
      ],
      "source": [
        "import random\n",
        "\n",
        "def generate_number():\n",
        "    \"\"\"Generate a 3-digit number with unique digits.\"\"\"\n",
        "    digits = random.sample(range(10), 3)\n",
        "    return ''.join(map(str, digits))\n",
        "\n",
        "def get_feedback(guess, secret):\n",
        "    \"\"\"Return the number of strikes and balls.\"\"\"\n",
        "    strikes = sum(1 for g, s in zip(guess, secret) if g == s)\n",
        "    balls = sum(1 for g in guess if g in secret) - strikes\n",
        "    return strikes, balls\n",
        "\n",
        "def main():\n",
        "    print(\"Welcome to Baseball game, IT Park!\")\n",
        "    secret_number = generate_number()\n",
        "    attempts = 0\n",
        "\n",
        "    while True:\n",
        "        guess = input(\"3-digit number please you guess, 3 different numbers (ex: 123): \")\n",
        "\n",
        "        # 입력 유효성 검사\n",
        "        if len(guess) != 3 or not guess.isdigit() or len(set(guess)) != 3:\n",
        "            print(\"wrong number. 3 different numbers.\")\n",
        "            continue\n",
        "\n",
        "        attempts += 1\n",
        "        strikes, balls = get_feedback(guess, secret_number)\n",
        "\n",
        "        if strikes == 3:\n",
        "            print(f\"Good Job, You are genius~~: {secret_number}\")\n",
        "            print(f\"Total trial number: {attempts}\")\n",
        "            break\n",
        "        else:\n",
        "            print(f\"{strikes} Strikes, {balls} Balls\")\n",
        "\n",
        "if __name__ == \"__main__\":\n",
        "    main()\n"
      ]
    },
    {
      "cell_type": "code",
      "source": [],
      "metadata": {
        "id": "rJ_Zo60Dubo-"
      },
      "execution_count": null,
      "outputs": []
    }
  ],
  "metadata": {
    "colab": {
      "provenance": [],
      "authorship_tag": "ABX9TyOwLr2mypuKbbV5pltkqO7t",
      "include_colab_link": true
    },
    "kernelspec": {
      "display_name": "Python 3",
      "name": "python3"
    },
    "language_info": {
      "name": "python"
    }
  },
  "nbformat": 4,
  "nbformat_minor": 0
}