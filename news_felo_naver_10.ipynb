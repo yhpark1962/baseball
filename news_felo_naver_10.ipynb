{
  "nbformat": 4,
  "nbformat_minor": 0,
  "metadata": {
    "colab": {
      "provenance": [],
      "authorship_tag": "ABX9TyPw6szF2COasCT6NNKiENe7",
      "include_colab_link": true
    },
    "kernelspec": {
      "name": "python3",
      "display_name": "Python 3"
    },
    "language_info": {
      "name": "python"
    }
  },
  "cells": [
    {
      "cell_type": "markdown",
      "metadata": {
        "id": "view-in-github",
        "colab_type": "text"
      },
      "source": [
        "<a href=\"https://colab.research.google.com/github/yhpark1962/baseball/blob/main/news_felo_naver_10.ipynb\" target=\"_parent\"><img src=\"https://colab.research.google.com/assets/colab-badge.svg\" alt=\"Open In Colab\"/></a>"
      ]
    },
    {
      "cell_type": "code",
      "execution_count": 7,
      "metadata": {
        "colab": {
          "base_uri": "https://localhost:8080/"
        },
        "id": "BK8KwhzKLdJz",
        "outputId": "776e57bc-e827-48cf-87ab-a2321b7f53d6"
      },
      "outputs": [
        {
          "output_type": "stream",
          "name": "stdout",
          "text": [
            "검색할 키워드를 입력하세요: 청년 실업\n",
            "크롤링 완료! 다음은 검색된 뉴스입니다:\n",
            "                                           Title  \\\n",
            "0                       중국 2월 청년실업률 16.9%…취업난 심화   \n",
            "1                            중국 청년 실업률, 2개월째 상승세   \n",
            "2          실업자에 취준생에 그냥 쉰 청춘도 더하니…청년 백수 120만명 시대   \n",
            "3                청년 백수 120만명… 실업자 27만명, 쉬었음 50만명   \n",
            "4                   [샷!] \"'쪼개기 알바' 안 쓰면 바보로 통해요\"   \n",
            "5                    청년, 경기 침체에 일자리 없어 \"인구↓실업자↑\"   \n",
            "6                     [너섬情談] 청년실업을 바라보는 또 하나의 시선   \n",
            "7              中, 대학 졸업자 수는 사상 최고인데⋯청년 실업률 16.1%   \n",
            "8  통계청, 청년 실업 120만 명 돌파…취업해도 4명 중 1명은 단기 근로에 ...   \n",
            "9            김상훈 \"청년 실업률 120만 명 시대...일자리 심각성 우려\"   \n",
            "\n",
            "                                                Link  \n",
            "0  =HYPERLINK(\"https://www.newsis.com/view/NISX20...  \n",
            "1  =HYPERLINK(\"https://www.jemin.com/news/article...  \n",
            "2  =HYPERLINK(\"https://www.joongang.co.kr/article...  \n",
            "3  =HYPERLINK(\"https://www.chosun.com/economy/eco...  \n",
            "4  =HYPERLINK(\"https://www.yna.co.kr/view/AKR2025...  \n",
            "5  =HYPERLINK(\"https://www.straightnews.co.kr/new...  \n",
            "6  =HYPERLINK(\"https://www.kmib.co.kr/article/vie...  \n",
            "7  =HYPERLINK(\"http://www.inews24.com/view/182431...  \n",
            "8  =HYPERLINK(\"https://www.topstarnews.net/news/a...  \n",
            "9  =HYPERLINK(\"https://www.gukjenews.com/news/art...  \n",
            "\n",
            "'청년 실업_news.csv' 파일로 저장되었습니다.\n"
          ]
        }
      ],
      "source": [
        "import requests\n",
        "from bs4 import BeautifulSoup\n",
        "import pandas as pd\n",
        "\n",
        "# 사용자로부터 검색어 입력 받기\n",
        "search_query = input(\"검색할 키워드를 입력하세요: \")\n",
        "\n",
        "# 네이버 뉴스 검색 URL 생성\n",
        "url = f\"https://search.naver.com/search.naver?where=news&query={search_query}\"\n",
        "\n",
        "# HTTP 요청\n",
        "headers = {\"User-Agent\": \"Mozilla/5.0 (Windows NT 10.0; Win64; x64) AppleWebKit/537.36 (KHTML, like Gecko) Chrome/73.0.3683.86 Safari/537.36\"}\n",
        "response = requests.get(url, headers=headers)\n",
        "\n",
        "# HTML 파싱\n",
        "soup = BeautifulSoup(response.text, \"html.parser\")\n",
        "\n",
        "# 뉴스 제목과 링크 추출\n",
        "articles = soup.select(\"div.news_wrap.api_ani_send\")\n",
        "news_data = []\n",
        "\n",
        "for article in articles[:30]:  # 최대 30개 뉴스 추출\n",
        "    title = article.select_one(\"a.news_tit\").text\n",
        "    link = article.select_one(\"a.news_tit\")[\"href\"]\n",
        "    news_data.append((title, link))\n",
        "\n",
        "# 데이터프레임 생성\n",
        "df = pd.DataFrame(news_data, columns=['Title', 'Link'])\n",
        "\n",
        "# 하이퍼링크 형태로 변환\n",
        "df['Link'] = df['Link'].apply(lambda x: f'=HYPERLINK(\"{x}\", \"{x}\")')\n",
        "\n",
        "# CSV 파일로 저장\n",
        "csv_filename = f\"{search_query}_news.csv\"\n",
        "df.to_csv(csv_filename, index=False, encoding='utf-8-sig')\n",
        "\n",
        "# 결과 출력\n",
        "print(\"크롤링 완료! 다음은 검색된 뉴스입니다:\")\n",
        "print(df)\n",
        "\n",
        "print(f\"\\n'{csv_filename}' 파일로 저장되었습니다.\")\n"
      ]
    }
  ]
}