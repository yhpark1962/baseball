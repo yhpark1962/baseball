{
  "nbformat": 4,
  "nbformat_minor": 0,
  "metadata": {
    "colab": {
      "provenance": [],
      "authorship_tag": "ABX9TyNgLjMfEzAvNAGpjqZ+fo5w",
      "include_colab_link": true
    },
    "kernelspec": {
      "name": "python3",
      "display_name": "Python 3"
    },
    "language_info": {
      "name": "python"
    }
  },
  "cells": [
    {
      "cell_type": "markdown",
      "metadata": {
        "id": "view-in-github",
        "colab_type": "text"
      },
      "source": [
        "<a href=\"https://colab.research.google.com/github/yhpark1962/baseball/blob/main/baseballgame_new.ipynb\" target=\"_parent\"><img src=\"https://colab.research.google.com/assets/colab-badge.svg\" alt=\"Open In Colab\"/></a>"
      ]
    },
    {
      "cell_type": "code",
      "execution_count": 1,
      "metadata": {
        "colab": {
          "base_uri": "https://localhost:8080/"
        },
        "id": "VzJhm9acR5Wk",
        "outputId": "2c790508-3624-41cf-ba47-bdafe64d6da7"
      },
      "outputs": [
        {
          "output_type": "stream",
          "name": "stdout",
          "text": [
            "숫자 야구 게임에 오신 것을 환영합니다!\n",
            "컴퓨터가 0-9 사이의 서로 다른 3자리 숫자를 선택했습니다.\n",
            "숫자와 순서를 맞춰주세요.\n",
            "입력 예시: 123 (중복 숫자는 허용되지 않습니다)\n",
            "게임을 종료하려면 'exit'를 입력하세요.\n",
            "숫자를 입력하세요: 123\n",
            "0 스트라이크, 0 볼\n",
            "숫자를 입력하세요: 456\n",
            "0 스트라이크, 0 볼\n",
            "숫자를 입력하세요: 789\n",
            "2 스트라이크, 0 볼\n",
            "숫자를 입력하세요: 780\n",
            "1 스트라이크, 1 볼\n",
            "숫자를 입력하세요: 089\n",
            "3 스트라이크, 0 볼\n",
            "축하합니다! 정답은 089 입니다.\n",
            "5번 만에 맞추셨습니다.\n"
          ]
        }
      ],
      "source": [
        "import random\n",
        "\n",
        "def generate_answer():\n",
        "    \"\"\"중복되지 않는 3자리 숫자를 생성\"\"\"\n",
        "    digits = list(range(10))\n",
        "    random.shuffle(digits)\n",
        "    return digits[:3]\n",
        "\n",
        "def check_guess(answer, guess):\n",
        "    \"\"\"사용자의 추측을 검사하고 스트라이크와 볼의 개수를 반환\"\"\"\n",
        "    strike = sum(a == b for a, b in zip(answer, guess))\n",
        "    ball = sum((guess.count(a) > 0) for a in answer) - strike\n",
        "    return strike, ball\n",
        "\n",
        "def play_game():\n",
        "    \"\"\"숫자 야구 게임\"\"\"\n",
        "    print(\"숫자 야구 게임에 오신 것을 환영합니다!\")\n",
        "    print(\"컴퓨터가 0-9 사이의 서로 다른 3자리 숫자를 선택했습니다.\")\n",
        "    print(\"숫자와 순서를 맞춰주세요.\")\n",
        "    print(\"입력 예시: 123 (중복 숫자는 허용되지 않습니다)\")\n",
        "    print(\"게임을 종료하려면 'exit'를 입력하세요.\")\n",
        "\n",
        "    # 정답 생성\n",
        "    answer = generate_answer()\n",
        "    attempts = 0\n",
        "\n",
        "    while True:\n",
        "        # 사용자 입력\n",
        "        user_input = input(\"숫자를 입력하세요: \")\n",
        "\n",
        "        if user_input.lower() == 'exit':\n",
        "            print(\"게임을 종료합니다. 정답은:\", ''.join(map(str, answer)))\n",
        "            break\n",
        "\n",
        "        # 입력 검증\n",
        "        if len(user_input) != 3 or not user_input.isdigit():\n",
        "            print(\"잘못된 입력입니다. 0-9 사이의 서로 다른 3자리 숫자를 입력하세요.\")\n",
        "            continue\n",
        "\n",
        "        guess = list(map(int, user_input))\n",
        "        if len(set(guess)) != 3:\n",
        "            print(\"중복된 숫자가 있습니다. 다시 입력해주세요.\")\n",
        "            continue\n",
        "\n",
        "        # 시도 횟수 증가\n",
        "        attempts += 1\n",
        "\n",
        "        # 스트라이크와 볼 계산\n",
        "        strike, ball = check_guess(answer, guess)\n",
        "        print(f\"{strike} 스트라이크, {ball} 볼\")\n",
        "\n",
        "        # 승리 조건\n",
        "        if strike == 3:\n",
        "            print(f\"축하합니다! 정답은 {''.join(map(str, answer))} 입니다.\")\n",
        "            print(f\"{attempts}번 만에 맞추셨습니다.\")\n",
        "            break\n",
        "\n",
        "# 게임 실행\n",
        "play_game()\n"
      ]
    }
  ]
}