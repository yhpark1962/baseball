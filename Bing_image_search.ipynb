{
  "nbformat": 4,
  "nbformat_minor": 0,
  "metadata": {
    "colab": {
      "provenance": [],
      "authorship_tag": "ABX9TyMsKGqttpQ8JBaowMnO58fM",
      "include_colab_link": true
    },
    "kernelspec": {
      "name": "python3",
      "display_name": "Python 3"
    },
    "language_info": {
      "name": "python"
    }
  },
  "cells": [
    {
      "cell_type": "markdown",
      "metadata": {
        "id": "view-in-github",
        "colab_type": "text"
      },
      "source": [
        "<a href=\"https://colab.research.google.com/github/yhpark1962/baseball/blob/main/Bing_image_search.ipynb\" target=\"_parent\"><img src=\"https://colab.research.google.com/assets/colab-badge.svg\" alt=\"Open In Colab\"/></a>"
      ]
    },
    {
      "cell_type": "code",
      "execution_count": 9,
      "metadata": {
        "colab": {
          "base_uri": "https://localhost:8080/"
        },
        "id": "6JUzR81P33zp",
        "outputId": "ec50fde9-723c-4687-f266-9b27ede41e3a"
      },
      "outputs": [
        {
          "output_type": "stream",
          "name": "stdout",
          "text": [
            "검색어: 강아지\n",
            "수집할 이미지 개수: 10\n",
            "=== 이미지 수집 시작 ===\n",
            "Saved: 강아지/강아지_1.jpg\n",
            "Saved: 강아지/강아지_2.jpg\n",
            "Saved: 강아지/강아지_3.jpg\n",
            "Saved: 강아지/강아지_4.jpg\n",
            "Saved: 강아지/강아지_5.jpg\n",
            "Saved: 강아지/강아지_6.jpg\n",
            "Saved: 강아지/강아지_7.jpg\n",
            "Saved: 강아지/강아지_8.jpg\n",
            "Saved: 강아지/강아지_9.jpg\n",
            "Saved: 강아지/강아지_10.jpg\n",
            "=== 이미지 수집 종료: 10개 저장 완료 ===\n"
          ]
        }
      ],
      "source": [
        "import os\n",
        "import requests\n",
        "from bs4 import BeautifulSoup\n",
        "\n",
        "# 검색어 입력\n",
        "query = input(\"검색어: \")\n",
        "image_cnt = int(input(\"수집할 이미지 개수: \"))\n",
        "\n",
        "# 저장할 디렉토리 설정\n",
        "save_dir = query.replace(\" \", \"_\")\n",
        "os.makedirs(save_dir, exist_ok=True)\n",
        "\n",
        "# Bing 이미지 검색 URL\n",
        "base_url = f\"https://www.bing.com/images/search?q={query}\"\n",
        "\n",
        "# HTTP 요청 헤더 설정\n",
        "headers = {\n",
        "    \"User-Agent\": \"Mozilla/5.0 (Windows NT 10.0; Win64; x64) AppleWebKit/537.36 (KHTML, like Gecko) Chrome/110.0.0.0 Safari/537.36\"\n",
        "}\n",
        "\n",
        "# 페이지에서 이미지 URL 추출\n",
        "def fetch_image_links():\n",
        "    response = requests.get(base_url, headers=headers)\n",
        "    soup = BeautifulSoup(response.text, \"html.parser\")\n",
        "\n",
        "    image_elements = soup.find_all(\"a\", class_=\"iusc\")\n",
        "    links = []\n",
        "\n",
        "    for img in image_elements:\n",
        "        try:\n",
        "            m = eval(img[\"m\"])  # 'm' 속성에서 이미지 URL 추출\n",
        "            links.append(m[\"murl\"])\n",
        "        except:\n",
        "            continue\n",
        "\n",
        "    return links[:image_cnt]\n",
        "\n",
        "# 이미지 다운로드 및 저장\n",
        "image_links = fetch_image_links()\n",
        "\n",
        "download_count = 0\n",
        "print(\"=== 이미지 수집 시작 ===\")\n",
        "for idx, link in enumerate(image_links):\n",
        "    try:\n",
        "        response = requests.get(link, stream=True)\n",
        "        if response.status_code == 200:\n",
        "            image_path = os.path.join(save_dir, f\"{query.replace(' ', '_')}_{idx + 1}.jpg\")\n",
        "            with open(image_path, 'wb') as f:\n",
        "                f.write(response.content)\n",
        "            print(f\"Saved: {image_path}\")\n",
        "            download_count += 1\n",
        "    except Exception as e:\n",
        "        print(f\"Error downloading image {idx + 1}: {e}\")\n",
        "\n",
        "print(f\"=== 이미지 수집 종료: {download_count}개 저장 완료 ===\")\n"
      ]
    }
  ]
}